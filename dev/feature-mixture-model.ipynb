{
 "cells": [
  {
   "cell_type": "markdown",
   "metadata": {},
   "source": [
    "# Intensity distribution estimation through mixture models\n",
    "\n",
    "The goal of this notebook is the development of techniques to estimate the intensity distributions in multibeam sonar images."
   ]
  },
  {
   "cell_type": "code",
   "execution_count": 1,
   "metadata": {
    "collapsed": false
   },
   "outputs": [],
   "source": [
    "import sys \n",
    "import os\n",
    "sys.path.append(os.path.abspath(\"..\")) # so we can find didson.py, multibeam.py\n",
    "\n",
    "from glob import glob           # file manipulation\n",
    "import numpy as np\n",
    "from skimage.io import imread   # image processing\n",
    "from scipy.optimize import curve_fit\n",
    "from scipy.stats import *       # stats utils\n",
    "\n",
    "from matplotlib import rcParams \n",
    "rcParams['font.family'] = 'serif'\n",
    "rcParams['font.sans-serif'] = ['Latin Modern Math']\n",
    "# print rcParams['font.size']\n",
    "\n",
    "import matplotlib.pyplot as plt\n",
    "%matplotlib inline"
   ]
  },
  {
   "cell_type": "code",
   "execution_count": 2,
   "metadata": {
    "collapsed": false
   },
   "outputs": [
    {
     "name": "stdout",
     "output_type": "stream",
     "text": [
      "Pings are 96 beams by 512 bins\n",
      "Field of view: 0.502654824574\n",
      "Range: 2.25  -  11.25 m.\n",
      "Noise: 0.002\n",
      "RX gain: 20.0 dB\n"
     ]
    }
   ],
   "source": [
    "from sonar import Sonar\n",
    "from didson import Didson\n",
    "\n",
    "didson = Didson();\n",
    "didson.loadConfig('../data/DIDSON/didson.json')\n",
    "print 'Pings are',didson.num_beams,'beams by',didson.num_bins, 'bins'\n",
    "print 'Field of view:', didson.fov\n",
    "print 'Range:', didson.min_range, ' - ', didson.max_range, 'm.'\n",
    "print 'Noise:', didson.noise\n",
    "print 'RX gain:', didson.rx_gain,'dB'"
   ]
  },
  {
   "cell_type": "markdown",
   "metadata": {},
   "source": [
    "## utility functions"
   ]
  },
  {
   "cell_type": "code",
   "execution_count": 3,
   "metadata": {
    "collapsed": true
   },
   "outputs": [],
   "source": [
    "def compile(image_list, cfg_list, sonar,enhance=False):\n",
    "    # horizontally stacks a set of images  (512 rows by (Nx96) columns)\n",
    "    N = len(image_list)\n",
    "    data = imread(image_list[0],as_grey=True).astype(np.float64) # 0-255.0\n",
    "    for i in range(1,N):\n",
    "        ping = imread(image_list[i],as_grey=True).astype(np.float64) # 0-255.0\n",
    "        if(enhance):\n",
    "            sonar.loadConfig(cfg_list[i])\n",
    "            sonar.noise = 0.01\n",
    "            ping = sonar.deconvolve(ping)\n",
    "            ping = sonar.removeTaper(ping)\n",
    "        data = np.hstack((data,ping))   \n",
    "\n",
    "    data/=255.0\n",
    "\n",
    "    return data"
   ]
  },
  {
   "cell_type": "code",
   "execution_count": 4,
   "metadata": {
    "collapsed": true
   },
   "outputs": [],
   "source": [
    "def kld(sample, reference):\n",
    "    p = sample\n",
    "    q = reference    \n",
    "    q[np.where(q==0)[0]] = 1 # we're dividing by q, so set all zero-values to 1\n",
    "    r = p/q\n",
    "    r[np.where(r==0)[0]] = 1 # ln(1) = 0; ln(0)=nan\n",
    "\n",
    "    return np.sum(p*np.log(r)) # kld wrt background"
   ]
  },
  {
   "cell_type": "markdown",
   "metadata": {},
   "source": [
    "## Background distribution"
   ]
  },
  {
   "cell_type": "markdown",
   "metadata": {},
   "source": [
    "### Load background data set"
   ]
  },
  {
   "cell_type": "code",
   "execution_count": 5,
   "metadata": {
    "collapsed": false
   },
   "outputs": [
    {
     "name": "stdout",
     "output_type": "stream",
     "text": [
      "116 image files, 116 config files\n"
     ]
    }
   ],
   "source": [
    "bg_image_list = sorted(glob('../data/background/*.png')) # window set to 2.25m to 11.25m\n",
    "bg_config_list = sorted(glob('../data/background/*.json'))\n",
    "print len(bg_image_list),'image files,',len(bg_config_list),'config files'"
   ]
  },
  {
   "cell_type": "code",
   "execution_count": 6,
   "metadata": {
    "collapsed": false
   },
   "outputs": [
    {
     "name": "stdout",
     "output_type": "stream",
     "text": [
      "5701632\n"
     ]
    }
   ],
   "source": [
    "bg_data = compile(bg_image_list, bg_config_list, didson, True)\n",
    "bins = np.linspace(0,1.0,256)\n",
    "h_bg = np.histogram(bg_data.flatten(),bins)\n",
    "h_bg = h_bg[0]/(np.sum(h_bg[0])+0.0)     # normalize\n",
    "print len(bg_data.flatten())"
   ]
  },
  {
   "cell_type": "markdown",
   "metadata": {},
   "source": [
    "### Fit mixture model"
   ]
  },
  {
   "cell_type": "code",
   "execution_count": 7,
   "metadata": {
    "collapsed": false
   },
   "outputs": [
    {
     "name": "stdout",
     "output_type": "stream",
     "text": [
      "pi: 0.31173977461 , s1: 0.0224103827219  (lambda: 44.6221741238 )\n",
      "kld: 0.000405881599047\n",
      "sum: 1.0\n"
     ]
    },
    {
     "data": {
      "image/png": "[encoded data removed]",
      "text/plain": [
       "<matplotlib.figure.Figure at 0x7efc2946ff90>"
      ]
     },
     "metadata": {},
     "output_type": "display_data"
    }
   ],
   "source": [
    "def bg_mixture(x, pi, s):\n",
    "    # background distribution as an exponential with zero-bias\n",
    "    p1 = expon.pdf(x,0,s)\n",
    "    p1/=np.sum(p1)\n",
    "    p1*=pi\n",
    "    p = p1\n",
    "    p[0] += (1-pi)\n",
    "    return p\n",
    "\n",
    "x = bins[:-1]\n",
    "p, v = curve_fit(bg_mixture, x, h_bg, p0=[0.5, 2e-2])\n",
    "\n",
    "print 'pi:',p[0],', s1:',p[1],' (lambda:',1.0/p[1],')'\n",
    "bg_est = bg_mixture(x, p[0], p[1])\n",
    "print 'kld:',kld(h_bg, bg_est)\n",
    "print 'sum:',np.sum(bg_est)\n",
    "\n",
    "plt.figure(figsize=(3.5,3.5*5/8.0))\n",
    "for i in range(0,512):\n",
    "    hi = np.histogram(bg_data[i,:],bins)\n",
    "    plt.plot(bins[:-1],hi[0]/(np.sum(hi[0])+0.0),color='#a6cee3',alpha=0.05)\n",
    "\n",
    "plt.plot(x, h_bg,'-',color='#1f78b4',linewidth=2.0)\n",
    "# plt.plot(x, bg_est,'--',color='#b2df8a',linewidth=2.0)\n",
    "plt.plot(x, bg_est,'--',color='#33a02c',linewidth=2.0)\n",
    "plt.yscale('log')\n",
    "plt.ylabel('$p_Y(y)$')\n",
    "plt.xlabel('$y$')\n",
    "plt.ylim([1e-4,1e0])\n",
    "plt.xlim([0,.2])\n",
    "plt.grid()\n",
    "plt.savefig('background_mixture.pdf',dpi=600,bbox_inches='tight',transparent=True,pad_inches=0.02) # no transparency on eps!\n"
   ]
  },
  {
   "cell_type": "markdown",
   "metadata": {},
   "source": [
    "## Object intensity distribution (aggregate)"
   ]
  },
  {
   "cell_type": "markdown",
   "metadata": {},
   "source": [
    "### Load test data set"
   ]
  },
  {
   "cell_type": "code",
   "execution_count": 8,
   "metadata": {
    "collapsed": false
   },
   "outputs": [
    {
     "name": "stdout",
     "output_type": "stream",
     "text": [
      "10 image files\n",
      "10 config files\n",
      "../data/test/1468966347175925.png\n",
      "../data/test/1468966347175925.json\n",
      " \n",
      "../data/test/1468966376377511.png\n",
      "../data/test/1468966376377511.json\n",
      " \n",
      "../data/test/1468966376476216.png\n",
      "../data/test/1468966376476216.json\n",
      " \n",
      "../data/test/1468966851909797.png\n",
      "../data/test/1468966851909797.json\n",
      " \n",
      "../data/test/1468969086135548.png\n",
      "../data/test/1468969086135548.json\n",
      " \n",
      "../data/test/1468970074505798.png\n",
      "../data/test/1468970074505798.json\n",
      " \n",
      "../data/test/1468970271148135.png\n",
      "../data/test/1468970271148135.json\n",
      " \n",
      "../data/test/1468970485675274.png\n",
      "../data/test/1468970485675274.json\n",
      " \n",
      "../data/test/1468970745714629.png\n",
      "../data/test/1468970745714629.json\n",
      " \n",
      "../data/test/1468970832506128.png\n",
      "../data/test/1468970832506128.json\n",
      " \n"
     ]
    }
   ],
   "source": [
    "test_image_list = sorted(glob('../data/test/*.png')) # window set to 2.25m to 11.25m\n",
    "print len(test_image_list),'image files'\n",
    "test_config_list = sorted(glob('../data/test/*.json'))\n",
    "print len(test_config_list),'config files'\n",
    "\n",
    "for i in range(0,len(test_image_list)):\n",
    "    print(test_image_list[i])\n",
    "    print(test_config_list[i])\n",
    "    print(' ')"
   ]
  },
  {
   "cell_type": "code",
   "execution_count": 9,
   "metadata": {
    "collapsed": false
   },
   "outputs": [
    {
     "name": "stdout",
     "output_type": "stream",
     "text": [
      "491520\n"
     ]
    }
   ],
   "source": [
    "test_data = compile(test_image_list, test_config_list, didson, True)\n",
    "bins = np.linspace(0,1.0,256)\n",
    "h_test = np.histogram(test_data.flatten(),bins)\n",
    "h_test = h_test[0]/(np.sum(h_test[0])+0.0)     # normalize\n",
    "print len(test_data.flatten())"
   ]
  },
  {
   "cell_type": "markdown",
   "metadata": {},
   "source": [
    "### Fit mixture model"
   ]
  },
  {
   "cell_type": "code",
   "execution_count": 10,
   "metadata": {
    "collapsed": false
   },
   "outputs": [
    {
     "name": "stdout",
     "output_type": "stream",
     "text": [
      "pi1=0.318, l1= 0.022\n",
      "pi2=0.026, l2= 0.129\n",
      "pi0=0.657\n",
      "kld: 0.003130080644\n"
     ]
    },
    {
     "data": {
      "image/png": "[encoded data removed]",
      "text/plain": [
       "<matplotlib.figure.Figure at 0x7efc25993c50>"
      ]
     },
     "metadata": {},
     "output_type": "display_data"
    }
   ],
   "source": [
    "def mixture(x, pi1, pi2, l1, l2):\n",
    "    # zero bias\n",
    "    p0 = np.zeros_like(x)\n",
    "    p0[0]=1\n",
    "    \n",
    "    # background\n",
    "    p1 = expon.pdf(x,0,l1)\n",
    "    p1/=np.sum(p1)\n",
    "    \n",
    "    # object\n",
    "#     p2 = expon.pdf(x,0,l2)\n",
    "    p2 = rayleigh.pdf(x,0,l2)\n",
    "    p2/=np.sum(p2)\n",
    "    \n",
    "    # mixture\n",
    "    p = (1-pi1-pi2)*p0 + pi1*p1 + pi2*p2\n",
    "#     print np.sum(p)\n",
    "    p/=np.sum(p)\n",
    "    return p\n",
    "\n",
    "x = bins[:-1]\n",
    "p, v = curve_fit(mixture, x, h_test, p0=[0.3, 0.02, 0.02, 0.15])\n",
    "\n",
    "print('pi1=%.3f, l1= %.3f' % (p[0], p[2]))\n",
    "print('pi2=%.3f, l2= %.3f' % (p[1], p[3]))\n",
    "print('pi0=%.3f' % (1-p[0]-p[1]))\n",
    "p_test = mixture(x,p[0],p[1],p[2],p[3])\n",
    "print 'kld:', kld(h_test, p_test)\n",
    "\n",
    "plt.figure(figsize=(3.5,3.5*5/8.0))\n",
    "# for i in range(0,512):\n",
    "#     hi = np.histogram(test_data[i,:],bins)\n",
    "#     plt.plot(bins[:-1],hi[0]/(np.sum(hi[0])+0.0),'.',color='#a6cee3',alpha=0.05)\n",
    "\n",
    "plt.plot(x, h_test,'-',color='#1f78b4',linewidth=2.0)\n",
    "# plt.plot(x, bg_est,'--',color='#b2df8a',linewidth=2.0)\n",
    "plt.plot(x, p_test,'--',color='#33a02c',linewidth=2.0)\n",
    "plt.yscale('log')\n",
    "plt.ylabel('$p_Y(y)$')\n",
    "plt.xlabel('$y$')\n",
    "plt.ylim([1e-6,1e0])\n",
    "plt.xlim([0,1.0])\n",
    "plt.grid()\n",
    "plt.savefig('test_mixture.pdf',dpi=600,bbox_inches='tight',transparent=True,pad_inches=0.02) # no transparency on eps!\n"
   ]
  },
  {
   "cell_type": "markdown",
   "metadata": {},
   "source": [
    "## Object intensity distribution (individual images)"
   ]
  },
  {
   "cell_type": "code",
   "execution_count": 21,
   "metadata": {
    "collapsed": false,
    "scrolled": false
   },
   "outputs": [
    {
     "name": "stdout",
     "output_type": "stream",
     "text": [
      "0 & fish, seafloor & 0.301 & 57.096 & 0.019 & 0.134 & 0.002616 \\\\ \\hline\n",
      "eta: 56.096328432\n",
      "1 & fish & 0.309 & 40.475 & 0.013 & 0.160 & 0.002117 \\\\ \\hline\n",
      "eta: 39.4751092092\n",
      "2 & fish & 0.302 & 43.878 & 0.014 & 0.141 & 0.002079 \\\\ \\hline\n",
      "eta: 42.8784831805\n",
      "3 & fish & 0.301 & 39.397 & 0.013 & 0.140 & 0.002099 \\\\ \\hline\n",
      "eta: 38.3970852432\n",
      "4 & hull & 0.306 & 49.483 & 0.012 & 0.180 & 0.003006 \\\\ \\hline\n",
      "eta: 48.4833819067\n",
      "5 & hull & 0.298 & 78.343 & 0.019 & 0.095 & 0.001803 \\\\ \\hline\n",
      "eta: 77.3429115468\n",
      "6 & rudder & 0.322 & 56.020 & 0.000 & 1.000 & 0.007547 \\\\ \\hline\n",
      "eta: 55.0199916906\n",
      "7 & propeller & 0.271 & 30.175 & 0.098 & 0.139 & 0.013194 \\\\ \\hline\n",
      "eta: 29.1748288558\n",
      "8 & hull & 0.321 & 37.375 & 0.009 & 0.215 & 0.002451 \\\\ \\hline\n",
      "eta: 36.3748179722\n",
      "9 & hull & 0.317 & 43.124 & 0.014 & 0.171 & 0.003227 \\\\ \\hline\n",
      "eta: 42.12412589\n"
     ]
    },
    {
     "data": {
      "image/png": "[encoded data removed]",
      "text/plain": [
       "<matplotlib.figure.Figure at 0x7efc254be390>"
      ]
     },
     "metadata": {},
     "output_type": "display_data"
    },
    {
     "data": {
      "image/png": "[encoded data removed]",
      "text/plain": [
       "<matplotlib.figure.Figure at 0x7efc25445390>"
      ]
     },
     "metadata": {},
     "output_type": "display_data"
    },
    {
     "data": {
      "image/png": "[encoded data removed]",
      "text/plain": [
       "<matplotlib.figure.Figure at 0x7efc2562fe90>"
      ]
     },
     "metadata": {},
     "output_type": "display_data"
    },
    {
     "data": {
      "image/png": "[encoded data removed]",
      "text/plain": [
       "<matplotlib.figure.Figure at 0x7efc250bb790>"
      ]
     },
     "metadata": {},
     "output_type": "display_data"
    },
    {
     "data": {
      "image/png": "[encoded data removed]",
      "text/plain": [
       "<matplotlib.figure.Figure at 0x7efc25240bd0>"
      ]
     },
     "metadata": {},
     "output_type": "display_data"
    },
    {
     "data": {
      "image/png": "[encoded data removed]",
      "text/plain": [
       "<matplotlib.figure.Figure at 0x7efc34744f50>"
      ]
     },
     "metadata": {},
     "output_type": "display_data"
    },
    {
     "data": {
      "image/png": "[encoded data removed]",
      "text/plain": [
       "<matplotlib.figure.Figure at 0x7efc2545e410>"
      ]
     },
     "metadata": {},
     "output_type": "display_data"
    },
    {
     "data": {
      "image/png": "[encoded data removed]",
      "text/plain": [
       "<matplotlib.figure.Figure at 0x7efc2561f5d0>"
      ]
     },
     "metadata": {},
     "output_type": "display_data"
    },
    {
     "data": {
      "image/png": "[encoded data removed]",
      "text/plain": [
       "<matplotlib.figure.Figure at 0x7efc24815650>"
      ]
     },
     "metadata": {},
     "output_type": "display_data"
    },
    {
     "data": {
      "image/png": "[encoded data removed]",
      "text/plain": [
       "<matplotlib.figure.Figure at 0x7efc248bb150>"
      ]
     },
     "metadata": {},
     "output_type": "display_data"
    }
   ],
   "source": [
    "rcParams['font.size'] = 4\n",
    "\n",
    "# description=('shaft','rudder','hull','fish','propeller','hull','fish','fish','hull','fish, seafloor')\n",
    "description=('fish, seafloor','fish','fish','fish','hull','hull','rudder','propeller','hull','hull')\n",
    "\n",
    "\n",
    "pi1 = np.zeros(10)\n",
    "pi2 = np.zeros(10)\n",
    "s1  = np.zeros(10) # 1/lambda \n",
    "s2  = np.zeros(10) # sigma\n",
    "\n",
    "for idx in range(0,len(test_image_list)):\n",
    "    image = (1/255.0)*imread(test_image_list[idx],as_grey = True)\n",
    "    didson.loadConfig(test_config_list[idx])\n",
    "    image = didson.deconvolve(image)\n",
    "    image = didson.removeTaper(image)\n",
    "    \n",
    "#     plt.figure()\n",
    "#     plt.imshow(image.transpose(),vmin=0,vmax=1)\n",
    "#     plt.axis('off')\n",
    "    \n",
    "    bins = np.linspace(0, 1.0, 256 )\n",
    "    hi = np.histogram(image[:],bins)\n",
    "    \n",
    "    x = hi[1][:-1].astype(np.float64)\n",
    "    h_test = hi[0][:].astype(np.float64)\n",
    "    h_test/=(0.0+np.sum(h_test))\n",
    "    \n",
    "    try:\n",
    "        p, v = curve_fit(mixture, x, h_test, p0=[0.3, 0.02, 0.02, 0.15],bounds=([0,0,0.0,0],[0.5,0.5,1.0,1.0]))\n",
    "#         print 'pi1:', p[0], 'l1:',p[2]\n",
    "#         print('pi1=%.3f, l1= %.3f' % (p[0], 1.0/p[2]))\n",
    "#         print 'pi2:', p[1], 'l2:',p[3]\n",
    "#         print('pi2=%.3f, l2= %.3f' % (p[1], 1.0/p[3]))\n",
    "#         print('pi0=%.3f' % (1-p[0]-p[1]))\n",
    "        p_test = mixture(x,p[0],p[1],p[2],p[3])\n",
    "        kldv = kld(h_test, p_test)\n",
    "        print idx,'&',description[idx],('& %.3f & %.3f & %.3f & %.3f & %.6f \\\\\\\\ \\\\hline' % ( p[0], 1.0/p[2], p[1], p[3], kldv))\n",
    "        pi1[idx] = p[0]\n",
    "        s1[idx]  = p[2]\n",
    "        pi2[idx] = p[1]\n",
    "        s2[idx]  = p[3]\n",
    "        \n",
    "        print 'eta:',(1-p[2])/(p[2])\n",
    "    except RuntimeError:\n",
    "        print 'FAILED!'\n",
    "        continue\n",
    "\n",
    "    plt.figure(figsize=(2.4,0.45))\n",
    "    plt.plot(x, h_test,color='#1f78b4',alpha=0.8,linewidth=0.5)\n",
    "    plt.plot(x, p_test,color='#33a02c',alpha=0.8,linewidth=0.5)\n",
    "    plt.xlim([0,1])\n",
    "    plt.ylim([1e-5,1e0])\n",
    "#     plt.xlabel('$y$')\n",
    "#     plt.ylabel('$p_Y(y)$')    \n",
    "    plt.yscale('log')\n",
    "    plt.grid(linewidth=.2,linestyle='-',alpha=0.5)\n",
    "    ax = plt.gca()\n",
    "    for side in ('top','bottom','left','right'):\n",
    "        ax.spines[side].set_linewidth(0.2)\n",
    "    ax.tick_params(width=0.2)    \n",
    "    plt.minorticks_off()\n",
    "    plt.savefig('test_mixture_'+str(idx)+'.pdf',dpi=600,bbox_inches='tight',transparent=True,pad_inches=0.02) # no transparency on eps!\n",
    "\n",
    "# rcParams['font.size'] = 10 # default value"
   ]
  }
 ],
 "metadata": {
  "anaconda-cloud": {},
  "kernelspec": {
   "display_name": "Python [conda env:multibeam]",
   "language": "python",
   "name": "conda-env-multibeam-py"
  },
  "language_info": {
   "codemirror_mode": {
    "name": "ipython",
    "version": 2
   },
   "file_extension": ".py",
   "mimetype": "text/x-python",
   "name": "python",
   "nbconvert_exporter": "python",
   "pygments_lexer": "ipython2",
   "version": "2.7.12"
  }
 },
 "nbformat": 4,
 "nbformat_minor": 1
}
